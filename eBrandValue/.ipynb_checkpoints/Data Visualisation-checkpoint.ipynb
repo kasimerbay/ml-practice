{
 "cells": [
  {
   "cell_type": "markdown",
   "id": "8a3acb3f",
   "metadata": {},
   "source": [
    "Ekte 150 bin ile 220 bin lira arasında fiyatlanmış 2. el arabaların datası verilmektedir.\n",
    "\n",
    "* Fiyati en cok belirleyen parametreler nelerdir? Bu parametreleri kullanarak fiyati tahmin edecek bir model için öneriniz nedir? Bu modelin performansi hakkinda ne dersiniz?\n",
    "\n",
    "* Fiyati ucuz ve pahali olmak uzere 2 kategoriye ayirdigimizi farz edelim, basit bir binary classifier (mesela logistic regression) kullanarak modelinizin performansini nasil olcumlersiniz?\n",
    "\n",
    "* Fiyati 2 kategori yerine 3 kategoriye ayırarak (multi-nominal, ordinal) veri oluşturduğumuzda yukarıdaki modele göre performansta nasil bir degisiklik oluyor. Degisik kategorilerin cutoff pointlerini optimal olarak nasil belirleriz?\n",
    "\n",
    "* Yukarıda önerdiğiniz 3 değişik modeli roc ve auc olarak karşılaştırmak gerekirse hangisini ve hangi kategoriler icin tercih edersiniz?\n",
    "\n",
    "* Araba almak isteyen birine bu listedeki arabalara bakarak nasil bir karar verme mekanizmasi kullanarak araba almasını önerirsiniz? Bu soruya cevap verirken yukarda kullandiginiz modelleri ve elde edilen içgörü ve öngörüleri kullanabilirsiniz. Verilerin yaklaşık 2 sene önceye ait olduğunu ayrıca belirtmek isterim.\n"
   ]
  },
  {
   "cell_type": "code",
   "execution_count": null,
   "id": "b5f0801a",
   "metadata": {},
   "outputs": [],
   "source": []
  }
 ],
 "metadata": {
  "kernelspec": {
   "display_name": "Python 3 (ipykernel)",
   "language": "python",
   "name": "python3"
  },
  "language_info": {
   "codemirror_mode": {
    "name": "ipython",
    "version": 3
   },
   "file_extension": ".py",
   "mimetype": "text/x-python",
   "name": "python",
   "nbconvert_exporter": "python",
   "pygments_lexer": "ipython3",
   "version": "3.9.15"
  }
 },
 "nbformat": 4,
 "nbformat_minor": 5
}
